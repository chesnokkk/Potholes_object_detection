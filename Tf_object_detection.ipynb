{
  "cells": [
    {
      "cell_type": "markdown",
      "metadata": {
        "id": "view-in-github",
        "colab_type": "text"
      },
      "source": [
        "<a href=\"https://colab.research.google.com/github/chesnokkk/Potholes_object_detection/blob/main/Tf_object_detection.ipynb\" target=\"_parent\"><img src=\"https://colab.research.google.com/assets/colab-badge.svg\" alt=\"Open In Colab\"/></a>"
      ]
    },
    {
      "cell_type": "code",
      "execution_count": null,
      "metadata": {
        "colab": {
          "base_uri": "https://localhost:8080/"
        },
        "id": "ZqqqcROtz1yK",
        "outputId": "9ac97c75-be3a-426b-bee4-94082ba1c802"
      },
      "outputs": [
        {
          "output_type": "stream",
          "name": "stdout",
          "text": [
            "/content/drive/MyDrive/Colab_Notebooks/TF_object_detection\n"
          ]
        }
      ],
      "source": [
        "%cd /content/drive/MyDrive/Colab_Notebooks/TF_object_detection"
      ]
    },
    {
      "cell_type": "markdown",
      "metadata": {
        "id": "LIQ1lFHT_dKd"
      },
      "source": [
        "## Load model and test it"
      ]
    },
    {
      "cell_type": "code",
      "execution_count": null,
      "metadata": {
        "colab": {
          "base_uri": "https://localhost:8080/"
        },
        "id": "zB3uEsWM0JCo",
        "outputId": "a0eb09ec-4d7f-4040-be2d-3497ec9efadf"
      },
      "outputs": [
        {
          "name": "stdout",
          "output_type": "stream",
          "text": [
            "fatal: destination path 'models' already exists and is not an empty directory.\n"
          ]
        }
      ],
      "source": [
        "!git clone https://github.com/tensorflow/models"
      ]
    },
    {
      "cell_type": "code",
      "execution_count": null,
      "metadata": {
        "id": "v9Qd-sOL-PBJ"
      },
      "outputs": [],
      "source": [
        "import os\n",
        "os.environ['PYTHONPATH'] += \":/content/drive/MyDrive/Colab_Notebooks/TF_object_detection/models\"\n",
        "\n",
        "import sys\n",
        "sys.path.append(\"/content/drive/MyDrive/Colab_Notebooks/TF_object_detection/models\")"
      ]
    },
    {
      "cell_type": "code",
      "execution_count": null,
      "metadata": {
        "id": "o-KfuKWq0LFI"
      },
      "outputs": [],
      "source": [
        "!apt-get install protobuf-compiler python-lxml python-pil \n",
        "!pip install Cython pandas tf-slim lvis\n",
        "!pip install tensorflow-object-detection-api"
      ]
    },
    {
      "cell_type": "code",
      "execution_count": null,
      "metadata": {
        "colab": {
          "base_uri": "https://localhost:8080/"
        },
        "id": "clDkNeNq4KC5",
        "outputId": "c03805f5-9004-4fe6-aac7-0b6af82404bb"
      },
      "outputs": [
        {
          "output_type": "stream",
          "name": "stdout",
          "text": [
            "/content/drive/MyDrive/Colab_Notebooks/TF_object_detection/models/research\n"
          ]
        }
      ],
      "source": [
        "%cd models/research"
      ]
    },
    {
      "cell_type": "code",
      "execution_count": null,
      "metadata": {
        "id": "k1ZmjJwx2C1w"
      },
      "outputs": [],
      "source": [
        "!protoc object_detection/protos/*.proto --python_out=."
      ]
    },
    {
      "cell_type": "code",
      "execution_count": null,
      "metadata": {
        "id": "K9LoN9GT_wPn"
      },
      "outputs": [],
      "source": [
        "pip install tensorflow-object-detection-api"
      ]
    },
    {
      "cell_type": "code",
      "execution_count": null,
      "metadata": {
        "id": "KseJRPtTArG3"
      },
      "outputs": [],
      "source": [
        "import os\n",
        "os.environ['PYTHONPATH'] = '/content/drive/MyDrive/Colab_Notebooks/TF_object_detection/models/research:/content/drive/MyDrive/Colab_Notebooks/TF_object_detection/models/models/research/slim:' + os.environ['PYTHONPATH']"
      ]
    },
    {
      "cell_type": "code",
      "execution_count": null,
      "metadata": {
        "colab": {
          "base_uri": "https://localhost:8080/"
        },
        "id": "CRcMIKG_BzC6",
        "outputId": "d70bc901-e362-43ed-c71a-76cf3db9cd06"
      },
      "outputs": [
        {
          "output_type": "stream",
          "name": "stdout",
          "text": [
            "Collecting tensorflow_io\n",
            "  Downloading tensorflow_io-0.23.1-cp37-cp37m-manylinux_2_12_x86_64.manylinux2010_x86_64.whl (23.1 MB)\n",
            "\u001b[K     |████████████████████████████████| 23.1 MB 1.3 MB/s \n",
            "\u001b[?25hRequirement already satisfied: tensorflow-io-gcs-filesystem==0.23.1 in /usr/local/lib/python3.7/dist-packages (from tensorflow_io) (0.23.1)\n",
            "Installing collected packages: tensorflow-io\n",
            "Successfully installed tensorflow-io-0.23.1\n"
          ]
        }
      ],
      "source": [
        "!pip install tensorflow_io"
      ]
    },
    {
      "cell_type": "code",
      "execution_count": null,
      "metadata": {
        "colab": {
          "base_uri": "https://localhost:8080/"
        },
        "id": "Rxyih-kSWmpb",
        "outputId": "be4f5da1-5812-4ded-d48b-284d64a38d65"
      },
      "outputs": [
        {
          "output_type": "stream",
          "name": "stdout",
          "text": [
            "Collecting tensorflow_addons\n",
            "  Downloading tensorflow_addons-0.15.0-cp37-cp37m-manylinux_2_12_x86_64.manylinux2010_x86_64.whl (1.1 MB)\n",
            "\u001b[?25l\r\u001b[K     |▎                               | 10 kB 33.4 MB/s eta 0:00:01\r\u001b[K     |▋                               | 20 kB 23.0 MB/s eta 0:00:01\r\u001b[K     |▉                               | 30 kB 17.0 MB/s eta 0:00:01\r\u001b[K     |█▏                              | 40 kB 14.9 MB/s eta 0:00:01\r\u001b[K     |█▌                              | 51 kB 8.8 MB/s eta 0:00:01\r\u001b[K     |█▊                              | 61 kB 9.3 MB/s eta 0:00:01\r\u001b[K     |██                              | 71 kB 9.5 MB/s eta 0:00:01\r\u001b[K     |██▍                             | 81 kB 10.6 MB/s eta 0:00:01\r\u001b[K     |██▋                             | 92 kB 10.4 MB/s eta 0:00:01\r\u001b[K     |███                             | 102 kB 8.5 MB/s eta 0:00:01\r\u001b[K     |███▎                            | 112 kB 8.5 MB/s eta 0:00:01\r\u001b[K     |███▌                            | 122 kB 8.5 MB/s eta 0:00:01\r\u001b[K     |███▉                            | 133 kB 8.5 MB/s eta 0:00:01\r\u001b[K     |████▏                           | 143 kB 8.5 MB/s eta 0:00:01\r\u001b[K     |████▍                           | 153 kB 8.5 MB/s eta 0:00:01\r\u001b[K     |████▊                           | 163 kB 8.5 MB/s eta 0:00:01\r\u001b[K     |█████                           | 174 kB 8.5 MB/s eta 0:00:01\r\u001b[K     |█████▎                          | 184 kB 8.5 MB/s eta 0:00:01\r\u001b[K     |█████▋                          | 194 kB 8.5 MB/s eta 0:00:01\r\u001b[K     |█████▉                          | 204 kB 8.5 MB/s eta 0:00:01\r\u001b[K     |██████▏                         | 215 kB 8.5 MB/s eta 0:00:01\r\u001b[K     |██████▌                         | 225 kB 8.5 MB/s eta 0:00:01\r\u001b[K     |██████▊                         | 235 kB 8.5 MB/s eta 0:00:01\r\u001b[K     |███████                         | 245 kB 8.5 MB/s eta 0:00:01\r\u001b[K     |███████▍                        | 256 kB 8.5 MB/s eta 0:00:01\r\u001b[K     |███████▋                        | 266 kB 8.5 MB/s eta 0:00:01\r\u001b[K     |████████                        | 276 kB 8.5 MB/s eta 0:00:01\r\u001b[K     |████████▎                       | 286 kB 8.5 MB/s eta 0:00:01\r\u001b[K     |████████▌                       | 296 kB 8.5 MB/s eta 0:00:01\r\u001b[K     |████████▉                       | 307 kB 8.5 MB/s eta 0:00:01\r\u001b[K     |█████████                       | 317 kB 8.5 MB/s eta 0:00:01\r\u001b[K     |█████████▍                      | 327 kB 8.5 MB/s eta 0:00:01\r\u001b[K     |█████████▊                      | 337 kB 8.5 MB/s eta 0:00:01\r\u001b[K     |██████████                      | 348 kB 8.5 MB/s eta 0:00:01\r\u001b[K     |██████████▎                     | 358 kB 8.5 MB/s eta 0:00:01\r\u001b[K     |██████████▋                     | 368 kB 8.5 MB/s eta 0:00:01\r\u001b[K     |██████████▉                     | 378 kB 8.5 MB/s eta 0:00:01\r\u001b[K     |███████████▏                    | 389 kB 8.5 MB/s eta 0:00:01\r\u001b[K     |███████████▌                    | 399 kB 8.5 MB/s eta 0:00:01\r\u001b[K     |███████████▊                    | 409 kB 8.5 MB/s eta 0:00:01\r\u001b[K     |████████████                    | 419 kB 8.5 MB/s eta 0:00:01\r\u001b[K     |████████████▍                   | 430 kB 8.5 MB/s eta 0:00:01\r\u001b[K     |████████████▋                   | 440 kB 8.5 MB/s eta 0:00:01\r\u001b[K     |█████████████                   | 450 kB 8.5 MB/s eta 0:00:01\r\u001b[K     |█████████████▎                  | 460 kB 8.5 MB/s eta 0:00:01\r\u001b[K     |█████████████▌                  | 471 kB 8.5 MB/s eta 0:00:01\r\u001b[K     |█████████████▉                  | 481 kB 8.5 MB/s eta 0:00:01\r\u001b[K     |██████████████                  | 491 kB 8.5 MB/s eta 0:00:01\r\u001b[K     |██████████████▍                 | 501 kB 8.5 MB/s eta 0:00:01\r\u001b[K     |██████████████▊                 | 512 kB 8.5 MB/s eta 0:00:01\r\u001b[K     |███████████████                 | 522 kB 8.5 MB/s eta 0:00:01\r\u001b[K     |███████████████▎                | 532 kB 8.5 MB/s eta 0:00:01\r\u001b[K     |███████████████▋                | 542 kB 8.5 MB/s eta 0:00:01\r\u001b[K     |███████████████▉                | 552 kB 8.5 MB/s eta 0:00:01\r\u001b[K     |████████████████▏               | 563 kB 8.5 MB/s eta 0:00:01\r\u001b[K     |████████████████▌               | 573 kB 8.5 MB/s eta 0:00:01\r\u001b[K     |████████████████▊               | 583 kB 8.5 MB/s eta 0:00:01\r\u001b[K     |█████████████████               | 593 kB 8.5 MB/s eta 0:00:01\r\u001b[K     |█████████████████▍              | 604 kB 8.5 MB/s eta 0:00:01\r\u001b[K     |█████████████████▋              | 614 kB 8.5 MB/s eta 0:00:01\r\u001b[K     |██████████████████              | 624 kB 8.5 MB/s eta 0:00:01\r\u001b[K     |██████████████████▏             | 634 kB 8.5 MB/s eta 0:00:01\r\u001b[K     |██████████████████▌             | 645 kB 8.5 MB/s eta 0:00:01\r\u001b[K     |██████████████████▉             | 655 kB 8.5 MB/s eta 0:00:01\r\u001b[K     |███████████████████             | 665 kB 8.5 MB/s eta 0:00:01\r\u001b[K     |███████████████████▍            | 675 kB 8.5 MB/s eta 0:00:01\r\u001b[K     |███████████████████▊            | 686 kB 8.5 MB/s eta 0:00:01\r\u001b[K     |████████████████████            | 696 kB 8.5 MB/s eta 0:00:01\r\u001b[K     |████████████████████▎           | 706 kB 8.5 MB/s eta 0:00:01\r\u001b[K     |████████████████████▋           | 716 kB 8.5 MB/s eta 0:00:01\r\u001b[K     |████████████████████▉           | 727 kB 8.5 MB/s eta 0:00:01\r\u001b[K     |█████████████████████▏          | 737 kB 8.5 MB/s eta 0:00:01\r\u001b[K     |█████████████████████▌          | 747 kB 8.5 MB/s eta 0:00:01\r\u001b[K     |█████████████████████▊          | 757 kB 8.5 MB/s eta 0:00:01\r\u001b[K     |██████████████████████          | 768 kB 8.5 MB/s eta 0:00:01\r\u001b[K     |██████████████████████▎         | 778 kB 8.5 MB/s eta 0:00:01\r\u001b[K     |██████████████████████▋         | 788 kB 8.5 MB/s eta 0:00:01\r\u001b[K     |███████████████████████         | 798 kB 8.5 MB/s eta 0:00:01\r\u001b[K     |███████████████████████▏        | 808 kB 8.5 MB/s eta 0:00:01\r\u001b[K     |███████████████████████▌        | 819 kB 8.5 MB/s eta 0:00:01\r\u001b[K     |███████████████████████▉        | 829 kB 8.5 MB/s eta 0:00:01\r\u001b[K     |████████████████████████        | 839 kB 8.5 MB/s eta 0:00:01\r\u001b[K     |████████████████████████▍       | 849 kB 8.5 MB/s eta 0:00:01\r\u001b[K     |████████████████████████▊       | 860 kB 8.5 MB/s eta 0:00:01\r\u001b[K     |█████████████████████████       | 870 kB 8.5 MB/s eta 0:00:01\r\u001b[K     |█████████████████████████▎      | 880 kB 8.5 MB/s eta 0:00:01\r\u001b[K     |█████████████████████████▋      | 890 kB 8.5 MB/s eta 0:00:01\r\u001b[K     |█████████████████████████▉      | 901 kB 8.5 MB/s eta 0:00:01\r\u001b[K     |██████████████████████████▏     | 911 kB 8.5 MB/s eta 0:00:01\r\u001b[K     |██████████████████████████▌     | 921 kB 8.5 MB/s eta 0:00:01\r\u001b[K     |██████████████████████████▊     | 931 kB 8.5 MB/s eta 0:00:01\r\u001b[K     |███████████████████████████     | 942 kB 8.5 MB/s eta 0:00:01\r\u001b[K     |███████████████████████████▎    | 952 kB 8.5 MB/s eta 0:00:01\r\u001b[K     |███████████████████████████▋    | 962 kB 8.5 MB/s eta 0:00:01\r\u001b[K     |████████████████████████████    | 972 kB 8.5 MB/s eta 0:00:01\r\u001b[K     |████████████████████████████▏   | 983 kB 8.5 MB/s eta 0:00:01\r\u001b[K     |████████████████████████████▌   | 993 kB 8.5 MB/s eta 0:00:01\r\u001b[K     |████████████████████████████▉   | 1.0 MB 8.5 MB/s eta 0:00:01\r\u001b[K     |█████████████████████████████   | 1.0 MB 8.5 MB/s eta 0:00:01\r\u001b[K     |█████████████████████████████▍  | 1.0 MB 8.5 MB/s eta 0:00:01\r\u001b[K     |█████████████████████████████▊  | 1.0 MB 8.5 MB/s eta 0:00:01\r\u001b[K     |██████████████████████████████  | 1.0 MB 8.5 MB/s eta 0:00:01\r\u001b[K     |██████████████████████████████▎ | 1.1 MB 8.5 MB/s eta 0:00:01\r\u001b[K     |██████████████████████████████▋ | 1.1 MB 8.5 MB/s eta 0:00:01\r\u001b[K     |██████████████████████████████▉ | 1.1 MB 8.5 MB/s eta 0:00:01\r\u001b[K     |███████████████████████████████▏| 1.1 MB 8.5 MB/s eta 0:00:01\r\u001b[K     |███████████████████████████████▍| 1.1 MB 8.5 MB/s eta 0:00:01\r\u001b[K     |███████████████████████████████▊| 1.1 MB 8.5 MB/s eta 0:00:01\r\u001b[K     |████████████████████████████████| 1.1 MB 8.5 MB/s \n",
            "\u001b[?25hRequirement already satisfied: typeguard>=2.7 in /usr/local/lib/python3.7/dist-packages (from tensorflow_addons) (2.7.1)\n",
            "Installing collected packages: tensorflow-addons\n",
            "Successfully installed tensorflow-addons-0.15.0\n"
          ]
        }
      ],
      "source": [
        "!pip install tensorflow_addons"
      ]
    },
    {
      "cell_type": "code",
      "execution_count": null,
      "metadata": {
        "colab": {
          "base_uri": "https://localhost:8080/"
        },
        "id": "0WWEfX0J1Pop",
        "outputId": "632ed446-63e9-4c56-d3b3-b85d44b7f9f3"
      },
      "outputs": [
        {
          "output_type": "stream",
          "name": "stdout",
          "text": [
            "2022-01-14 18:12:59.789153: E tensorflow/stream_executor/cuda/cuda_driver.cc:271] failed call to cuInit: CUDA_ERROR_NO_DEVICE: no CUDA-capable device is detected\n",
            "Running tests under Python 3.7.12: /usr/bin/python3\n",
            "[ RUN      ] ModelBuilderTF2Test.test_create_center_net_deepmac\n",
            "W0114 18:13:00.209709 139626765748096 model_builder.py:1100] Building experimental DeepMAC meta-arch. Some features may be omitted.\n",
            "INFO:tensorflow:time(__main__.ModelBuilderTF2Test.test_create_center_net_deepmac): 0.71s\n",
            "I0114 18:13:00.498717 139626765748096 test_util.py:2309] time(__main__.ModelBuilderTF2Test.test_create_center_net_deepmac): 0.71s\n",
            "[       OK ] ModelBuilderTF2Test.test_create_center_net_deepmac\n",
            "[ RUN      ] ModelBuilderTF2Test.test_create_center_net_model0 (customize_head_params=True)\n",
            "INFO:tensorflow:time(__main__.ModelBuilderTF2Test.test_create_center_net_model0 (customize_head_params=True)): 0.89s\n",
            "I0114 18:13:01.387632 139626765748096 test_util.py:2309] time(__main__.ModelBuilderTF2Test.test_create_center_net_model0 (customize_head_params=True)): 0.89s\n",
            "[       OK ] ModelBuilderTF2Test.test_create_center_net_model0 (customize_head_params=True)\n",
            "[ RUN      ] ModelBuilderTF2Test.test_create_center_net_model1 (customize_head_params=False)\n",
            "INFO:tensorflow:time(__main__.ModelBuilderTF2Test.test_create_center_net_model1 (customize_head_params=False)): 0.3s\n",
            "I0114 18:13:01.685456 139626765748096 test_util.py:2309] time(__main__.ModelBuilderTF2Test.test_create_center_net_model1 (customize_head_params=False)): 0.3s\n",
            "[       OK ] ModelBuilderTF2Test.test_create_center_net_model1 (customize_head_params=False)\n",
            "[ RUN      ] ModelBuilderTF2Test.test_create_center_net_model_from_keypoints\n",
            "INFO:tensorflow:time(__main__.ModelBuilderTF2Test.test_create_center_net_model_from_keypoints): 0.39s\n",
            "I0114 18:13:02.079579 139626765748096 test_util.py:2309] time(__main__.ModelBuilderTF2Test.test_create_center_net_model_from_keypoints): 0.39s\n",
            "[       OK ] ModelBuilderTF2Test.test_create_center_net_model_from_keypoints\n",
            "[ RUN      ] ModelBuilderTF2Test.test_create_center_net_model_mobilenet\n",
            "INFO:tensorflow:time(__main__.ModelBuilderTF2Test.test_create_center_net_model_mobilenet): 2.24s\n",
            "I0114 18:13:04.320120 139626765748096 test_util.py:2309] time(__main__.ModelBuilderTF2Test.test_create_center_net_model_mobilenet): 2.24s\n",
            "[       OK ] ModelBuilderTF2Test.test_create_center_net_model_mobilenet\n",
            "[ RUN      ] ModelBuilderTF2Test.test_create_experimental_model\n",
            "INFO:tensorflow:time(__main__.ModelBuilderTF2Test.test_create_experimental_model): 0.0s\n",
            "I0114 18:13:04.321094 139626765748096 test_util.py:2309] time(__main__.ModelBuilderTF2Test.test_create_experimental_model): 0.0s\n",
            "[       OK ] ModelBuilderTF2Test.test_create_experimental_model\n",
            "[ RUN      ] ModelBuilderTF2Test.test_create_faster_rcnn_from_config_with_crop_feature0 (True)\n",
            "INFO:tensorflow:time(__main__.ModelBuilderTF2Test.test_create_faster_rcnn_from_config_with_crop_feature0 (True)): 0.02s\n",
            "I0114 18:13:04.345984 139626765748096 test_util.py:2309] time(__main__.ModelBuilderTF2Test.test_create_faster_rcnn_from_config_with_crop_feature0 (True)): 0.02s\n",
            "[       OK ] ModelBuilderTF2Test.test_create_faster_rcnn_from_config_with_crop_feature0 (True)\n",
            "[ RUN      ] ModelBuilderTF2Test.test_create_faster_rcnn_from_config_with_crop_feature1 (False)\n",
            "INFO:tensorflow:time(__main__.ModelBuilderTF2Test.test_create_faster_rcnn_from_config_with_crop_feature1 (False)): 0.02s\n",
            "I0114 18:13:04.361890 139626765748096 test_util.py:2309] time(__main__.ModelBuilderTF2Test.test_create_faster_rcnn_from_config_with_crop_feature1 (False)): 0.02s\n",
            "[       OK ] ModelBuilderTF2Test.test_create_faster_rcnn_from_config_with_crop_feature1 (False)\n",
            "[ RUN      ] ModelBuilderTF2Test.test_create_faster_rcnn_model_from_config_with_example_miner\n",
            "INFO:tensorflow:time(__main__.ModelBuilderTF2Test.test_create_faster_rcnn_model_from_config_with_example_miner): 0.02s\n",
            "I0114 18:13:04.379123 139626765748096 test_util.py:2309] time(__main__.ModelBuilderTF2Test.test_create_faster_rcnn_model_from_config_with_example_miner): 0.02s\n",
            "[       OK ] ModelBuilderTF2Test.test_create_faster_rcnn_model_from_config_with_example_miner\n",
            "[ RUN      ] ModelBuilderTF2Test.test_create_faster_rcnn_models_from_config_faster_rcnn_with_matmul\n",
            "INFO:tensorflow:time(__main__.ModelBuilderTF2Test.test_create_faster_rcnn_models_from_config_faster_rcnn_with_matmul): 0.11s\n",
            "I0114 18:13:04.486423 139626765748096 test_util.py:2309] time(__main__.ModelBuilderTF2Test.test_create_faster_rcnn_models_from_config_faster_rcnn_with_matmul): 0.11s\n",
            "[       OK ] ModelBuilderTF2Test.test_create_faster_rcnn_models_from_config_faster_rcnn_with_matmul\n",
            "[ RUN      ] ModelBuilderTF2Test.test_create_faster_rcnn_models_from_config_faster_rcnn_without_matmul\n",
            "INFO:tensorflow:time(__main__.ModelBuilderTF2Test.test_create_faster_rcnn_models_from_config_faster_rcnn_without_matmul): 0.11s\n",
            "I0114 18:13:04.594757 139626765748096 test_util.py:2309] time(__main__.ModelBuilderTF2Test.test_create_faster_rcnn_models_from_config_faster_rcnn_without_matmul): 0.11s\n",
            "[       OK ] ModelBuilderTF2Test.test_create_faster_rcnn_models_from_config_faster_rcnn_without_matmul\n",
            "[ RUN      ] ModelBuilderTF2Test.test_create_faster_rcnn_models_from_config_mask_rcnn_with_matmul\n",
            "INFO:tensorflow:time(__main__.ModelBuilderTF2Test.test_create_faster_rcnn_models_from_config_mask_rcnn_with_matmul): 0.11s\n",
            "I0114 18:13:04.702888 139626765748096 test_util.py:2309] time(__main__.ModelBuilderTF2Test.test_create_faster_rcnn_models_from_config_mask_rcnn_with_matmul): 0.11s\n",
            "[       OK ] ModelBuilderTF2Test.test_create_faster_rcnn_models_from_config_mask_rcnn_with_matmul\n",
            "[ RUN      ] ModelBuilderTF2Test.test_create_faster_rcnn_models_from_config_mask_rcnn_without_matmul\n",
            "INFO:tensorflow:time(__main__.ModelBuilderTF2Test.test_create_faster_rcnn_models_from_config_mask_rcnn_without_matmul): 0.11s\n",
            "I0114 18:13:04.810205 139626765748096 test_util.py:2309] time(__main__.ModelBuilderTF2Test.test_create_faster_rcnn_models_from_config_mask_rcnn_without_matmul): 0.11s\n",
            "[       OK ] ModelBuilderTF2Test.test_create_faster_rcnn_models_from_config_mask_rcnn_without_matmul\n",
            "[ RUN      ] ModelBuilderTF2Test.test_create_rfcn_model_from_config\n",
            "INFO:tensorflow:time(__main__.ModelBuilderTF2Test.test_create_rfcn_model_from_config): 0.11s\n",
            "I0114 18:13:04.920428 139626765748096 test_util.py:2309] time(__main__.ModelBuilderTF2Test.test_create_rfcn_model_from_config): 0.11s\n",
            "[       OK ] ModelBuilderTF2Test.test_create_rfcn_model_from_config\n",
            "[ RUN      ] ModelBuilderTF2Test.test_create_ssd_fpn_model_from_config\n",
            "INFO:tensorflow:time(__main__.ModelBuilderTF2Test.test_create_ssd_fpn_model_from_config): 0.03s\n",
            "I0114 18:13:04.950885 139626765748096 test_util.py:2309] time(__main__.ModelBuilderTF2Test.test_create_ssd_fpn_model_from_config): 0.03s\n",
            "[       OK ] ModelBuilderTF2Test.test_create_ssd_fpn_model_from_config\n",
            "[ RUN      ] ModelBuilderTF2Test.test_create_ssd_models_from_config\n",
            "I0114 18:13:05.154941 139626765748096 ssd_efficientnet_bifpn_feature_extractor.py:146] EfficientDet EfficientNet backbone version: efficientnet-b0\n",
            "I0114 18:13:05.155134 139626765748096 ssd_efficientnet_bifpn_feature_extractor.py:147] EfficientDet BiFPN num filters: 64\n",
            "I0114 18:13:05.155199 139626765748096 ssd_efficientnet_bifpn_feature_extractor.py:149] EfficientDet BiFPN num iterations: 3\n",
            "I0114 18:13:05.157583 139626765748096 efficientnet_model.py:144] round_filter input=32 output=32\n",
            "I0114 18:13:05.175681 139626765748096 efficientnet_model.py:144] round_filter input=32 output=32\n",
            "I0114 18:13:05.175828 139626765748096 efficientnet_model.py:144] round_filter input=16 output=16\n",
            "I0114 18:13:05.236417 139626765748096 efficientnet_model.py:144] round_filter input=16 output=16\n",
            "I0114 18:13:05.236597 139626765748096 efficientnet_model.py:144] round_filter input=24 output=24\n",
            "I0114 18:13:05.388601 139626765748096 efficientnet_model.py:144] round_filter input=24 output=24\n",
            "I0114 18:13:05.388773 139626765748096 efficientnet_model.py:144] round_filter input=40 output=40\n",
            "I0114 18:13:05.687034 139626765748096 efficientnet_model.py:144] round_filter input=40 output=40\n",
            "I0114 18:13:05.687209 139626765748096 efficientnet_model.py:144] round_filter input=80 output=80\n",
            "I0114 18:13:05.920175 139626765748096 efficientnet_model.py:144] round_filter input=80 output=80\n",
            "I0114 18:13:05.920345 139626765748096 efficientnet_model.py:144] round_filter input=112 output=112\n",
            "I0114 18:13:06.173197 139626765748096 efficientnet_model.py:144] round_filter input=112 output=112\n",
            "I0114 18:13:06.173367 139626765748096 efficientnet_model.py:144] round_filter input=192 output=192\n",
            "I0114 18:13:06.528708 139626765748096 efficientnet_model.py:144] round_filter input=192 output=192\n",
            "I0114 18:13:06.528891 139626765748096 efficientnet_model.py:144] round_filter input=320 output=320\n",
            "I0114 18:13:06.616632 139626765748096 efficientnet_model.py:144] round_filter input=1280 output=1280\n",
            "I0114 18:13:06.670552 139626765748096 efficientnet_model.py:454] Building model efficientnet with params ModelConfig(width_coefficient=1.0, depth_coefficient=1.0, resolution=224, dropout_rate=0.2, blocks=(BlockConfig(input_filters=32, output_filters=16, kernel_size=3, num_repeat=1, expand_ratio=1, strides=(1, 1), se_ratio=0.25, id_skip=True, fused_conv=False, conv_type='depthwise'), BlockConfig(input_filters=16, output_filters=24, kernel_size=3, num_repeat=2, expand_ratio=6, strides=(2, 2), se_ratio=0.25, id_skip=True, fused_conv=False, conv_type='depthwise'), BlockConfig(input_filters=24, output_filters=40, kernel_size=5, num_repeat=2, expand_ratio=6, strides=(2, 2), se_ratio=0.25, id_skip=True, fused_conv=False, conv_type='depthwise'), BlockConfig(input_filters=40, output_filters=80, kernel_size=3, num_repeat=3, expand_ratio=6, strides=(2, 2), se_ratio=0.25, id_skip=True, fused_conv=False, conv_type='depthwise'), BlockConfig(input_filters=80, output_filters=112, kernel_size=5, num_repeat=3, expand_ratio=6, strides=(1, 1), se_ratio=0.25, id_skip=True, fused_conv=False, conv_type='depthwise'), BlockConfig(input_filters=112, output_filters=192, kernel_size=5, num_repeat=4, expand_ratio=6, strides=(2, 2), se_ratio=0.25, id_skip=True, fused_conv=False, conv_type='depthwise'), BlockConfig(input_filters=192, output_filters=320, kernel_size=3, num_repeat=1, expand_ratio=6, strides=(1, 1), se_ratio=0.25, id_skip=True, fused_conv=False, conv_type='depthwise')), stem_base_filters=32, top_base_filters=1280, activation='simple_swish', batch_norm='default', bn_momentum=0.99, bn_epsilon=0.001, weight_decay=5e-06, drop_connect_rate=0.2, depth_divisor=8, min_depth=None, use_se=True, input_channels=3, num_classes=1000, model_name='efficientnet', rescale_input=False, data_format='channels_last', dtype='float32')\n",
            "I0114 18:13:06.726014 139626765748096 ssd_efficientnet_bifpn_feature_extractor.py:146] EfficientDet EfficientNet backbone version: efficientnet-b1\n",
            "I0114 18:13:06.726172 139626765748096 ssd_efficientnet_bifpn_feature_extractor.py:147] EfficientDet BiFPN num filters: 88\n",
            "I0114 18:13:06.726233 139626765748096 ssd_efficientnet_bifpn_feature_extractor.py:149] EfficientDet BiFPN num iterations: 4\n",
            "I0114 18:13:06.727984 139626765748096 efficientnet_model.py:144] round_filter input=32 output=32\n",
            "I0114 18:13:06.743708 139626765748096 efficientnet_model.py:144] round_filter input=32 output=32\n",
            "I0114 18:13:06.743828 139626765748096 efficientnet_model.py:144] round_filter input=16 output=16\n",
            "I0114 18:13:06.867055 139626765748096 efficientnet_model.py:144] round_filter input=16 output=16\n",
            "I0114 18:13:06.867229 139626765748096 efficientnet_model.py:144] round_filter input=24 output=24\n",
            "I0114 18:13:07.098531 139626765748096 efficientnet_model.py:144] round_filter input=24 output=24\n",
            "I0114 18:13:07.098749 139626765748096 efficientnet_model.py:144] round_filter input=40 output=40\n",
            "I0114 18:13:07.338878 139626765748096 efficientnet_model.py:144] round_filter input=40 output=40\n",
            "I0114 18:13:07.339079 139626765748096 efficientnet_model.py:144] round_filter input=80 output=80\n",
            "I0114 18:13:07.665386 139626765748096 efficientnet_model.py:144] round_filter input=80 output=80\n",
            "I0114 18:13:07.665584 139626765748096 efficientnet_model.py:144] round_filter input=112 output=112\n",
            "I0114 18:13:07.993687 139626765748096 efficientnet_model.py:144] round_filter input=112 output=112\n",
            "I0114 18:13:07.993871 139626765748096 efficientnet_model.py:144] round_filter input=192 output=192\n",
            "I0114 18:13:08.447832 139626765748096 efficientnet_model.py:144] round_filter input=192 output=192\n",
            "I0114 18:13:08.448049 139626765748096 efficientnet_model.py:144] round_filter input=320 output=320\n",
            "I0114 18:13:08.652212 139626765748096 efficientnet_model.py:144] round_filter input=1280 output=1280\n",
            "I0114 18:13:08.710885 139626765748096 efficientnet_model.py:454] Building model efficientnet with params ModelConfig(width_coefficient=1.0, depth_coefficient=1.1, resolution=240, dropout_rate=0.2, blocks=(BlockConfig(input_filters=32, output_filters=16, kernel_size=3, num_repeat=1, expand_ratio=1, strides=(1, 1), se_ratio=0.25, id_skip=True, fused_conv=False, conv_type='depthwise'), BlockConfig(input_filters=16, output_filters=24, kernel_size=3, num_repeat=2, expand_ratio=6, strides=(2, 2), se_ratio=0.25, id_skip=True, fused_conv=False, conv_type='depthwise'), BlockConfig(input_filters=24, output_filters=40, kernel_size=5, num_repeat=2, expand_ratio=6, strides=(2, 2), se_ratio=0.25, id_skip=True, fused_conv=False, conv_type='depthwise'), BlockConfig(input_filters=40, output_filters=80, kernel_size=3, num_repeat=3, expand_ratio=6, strides=(2, 2), se_ratio=0.25, id_skip=True, fused_conv=False, conv_type='depthwise'), BlockConfig(input_filters=80, output_filters=112, kernel_size=5, num_repeat=3, expand_ratio=6, strides=(1, 1), se_ratio=0.25, id_skip=True, fused_conv=False, conv_type='depthwise'), BlockConfig(input_filters=112, output_filters=192, kernel_size=5, num_repeat=4, expand_ratio=6, strides=(2, 2), se_ratio=0.25, id_skip=True, fused_conv=False, conv_type='depthwise'), BlockConfig(input_filters=192, output_filters=320, kernel_size=3, num_repeat=1, expand_ratio=6, strides=(1, 1), se_ratio=0.25, id_skip=True, fused_conv=False, conv_type='depthwise')), stem_base_filters=32, top_base_filters=1280, activation='simple_swish', batch_norm='default', bn_momentum=0.99, bn_epsilon=0.001, weight_decay=5e-06, drop_connect_rate=0.2, depth_divisor=8, min_depth=None, use_se=True, input_channels=3, num_classes=1000, model_name='efficientnet', rescale_input=False, data_format='channels_last', dtype='float32')\n",
            "I0114 18:13:08.779225 139626765748096 ssd_efficientnet_bifpn_feature_extractor.py:146] EfficientDet EfficientNet backbone version: efficientnet-b2\n",
            "I0114 18:13:08.779402 139626765748096 ssd_efficientnet_bifpn_feature_extractor.py:147] EfficientDet BiFPN num filters: 112\n",
            "I0114 18:13:08.779465 139626765748096 ssd_efficientnet_bifpn_feature_extractor.py:149] EfficientDet BiFPN num iterations: 5\n",
            "I0114 18:13:08.781260 139626765748096 efficientnet_model.py:144] round_filter input=32 output=32\n",
            "I0114 18:13:08.797405 139626765748096 efficientnet_model.py:144] round_filter input=32 output=32\n",
            "I0114 18:13:08.797537 139626765748096 efficientnet_model.py:144] round_filter input=16 output=16\n",
            "I0114 18:13:08.916198 139626765748096 efficientnet_model.py:144] round_filter input=16 output=16\n",
            "I0114 18:13:08.916370 139626765748096 efficientnet_model.py:144] round_filter input=24 output=24\n",
            "I0114 18:13:09.160941 139626765748096 efficientnet_model.py:144] round_filter input=24 output=24\n",
            "I0114 18:13:09.161151 139626765748096 efficientnet_model.py:144] round_filter input=40 output=48\n",
            "I0114 18:13:09.399285 139626765748096 efficientnet_model.py:144] round_filter input=40 output=48\n",
            "I0114 18:13:09.399509 139626765748096 efficientnet_model.py:144] round_filter input=80 output=88\n",
            "I0114 18:13:09.723209 139626765748096 efficientnet_model.py:144] round_filter input=80 output=88\n",
            "I0114 18:13:09.723389 139626765748096 efficientnet_model.py:144] round_filter input=112 output=120\n",
            "I0114 18:13:10.230674 139626765748096 efficientnet_model.py:144] round_filter input=112 output=120\n",
            "I0114 18:13:10.230852 139626765748096 efficientnet_model.py:144] round_filter input=192 output=208\n",
            "I0114 18:13:10.685650 139626765748096 efficientnet_model.py:144] round_filter input=192 output=208\n",
            "I0114 18:13:10.685832 139626765748096 efficientnet_model.py:144] round_filter input=320 output=352\n",
            "I0114 18:13:10.908700 139626765748096 efficientnet_model.py:144] round_filter input=1280 output=1408\n",
            "I0114 18:13:10.963646 139626765748096 efficientnet_model.py:454] Building model efficientnet with params ModelConfig(width_coefficient=1.1, depth_coefficient=1.2, resolution=260, dropout_rate=0.3, blocks=(BlockConfig(input_filters=32, output_filters=16, kernel_size=3, num_repeat=1, expand_ratio=1, strides=(1, 1), se_ratio=0.25, id_skip=True, fused_conv=False, conv_type='depthwise'), BlockConfig(input_filters=16, output_filters=24, kernel_size=3, num_repeat=2, expand_ratio=6, strides=(2, 2), se_ratio=0.25, id_skip=True, fused_conv=False, conv_type='depthwise'), BlockConfig(input_filters=24, output_filters=40, kernel_size=5, num_repeat=2, expand_ratio=6, strides=(2, 2), se_ratio=0.25, id_skip=True, fused_conv=False, conv_type='depthwise'), BlockConfig(input_filters=40, output_filters=80, kernel_size=3, num_repeat=3, expand_ratio=6, strides=(2, 2), se_ratio=0.25, id_skip=True, fused_conv=False, conv_type='depthwise'), BlockConfig(input_filters=80, output_filters=112, kernel_size=5, num_repeat=3, expand_ratio=6, strides=(1, 1), se_ratio=0.25, id_skip=True, fused_conv=False, conv_type='depthwise'), BlockConfig(input_filters=112, output_filters=192, kernel_size=5, num_repeat=4, expand_ratio=6, strides=(2, 2), se_ratio=0.25, id_skip=True, fused_conv=False, conv_type='depthwise'), BlockConfig(input_filters=192, output_filters=320, kernel_size=3, num_repeat=1, expand_ratio=6, strides=(1, 1), se_ratio=0.25, id_skip=True, fused_conv=False, conv_type='depthwise')), stem_base_filters=32, top_base_filters=1280, activation='simple_swish', batch_norm='default', bn_momentum=0.99, bn_epsilon=0.001, weight_decay=5e-06, drop_connect_rate=0.2, depth_divisor=8, min_depth=None, use_se=True, input_channels=3, num_classes=1000, model_name='efficientnet', rescale_input=False, data_format='channels_last', dtype='float32')\n",
            "I0114 18:13:11.030952 139626765748096 ssd_efficientnet_bifpn_feature_extractor.py:146] EfficientDet EfficientNet backbone version: efficientnet-b3\n",
            "I0114 18:13:11.031157 139626765748096 ssd_efficientnet_bifpn_feature_extractor.py:147] EfficientDet BiFPN num filters: 160\n",
            "I0114 18:13:11.031243 139626765748096 ssd_efficientnet_bifpn_feature_extractor.py:149] EfficientDet BiFPN num iterations: 6\n",
            "I0114 18:13:11.033024 139626765748096 efficientnet_model.py:144] round_filter input=32 output=40\n",
            "I0114 18:13:11.048397 139626765748096 efficientnet_model.py:144] round_filter input=32 output=40\n",
            "I0114 18:13:11.048518 139626765748096 efficientnet_model.py:144] round_filter input=16 output=24\n",
            "I0114 18:13:11.178466 139626765748096 efficientnet_model.py:144] round_filter input=16 output=24\n",
            "I0114 18:13:11.178669 139626765748096 efficientnet_model.py:144] round_filter input=24 output=32\n",
            "I0114 18:13:11.413145 139626765748096 efficientnet_model.py:144] round_filter input=24 output=32\n",
            "I0114 18:13:11.413323 139626765748096 efficientnet_model.py:144] round_filter input=40 output=48\n",
            "I0114 18:13:11.642837 139626765748096 efficientnet_model.py:144] round_filter input=40 output=48\n",
            "I0114 18:13:11.643031 139626765748096 efficientnet_model.py:144] round_filter input=80 output=96\n",
            "I0114 18:13:12.042245 139626765748096 efficientnet_model.py:144] round_filter input=80 output=96\n",
            "I0114 18:13:12.042430 139626765748096 efficientnet_model.py:144] round_filter input=112 output=136\n",
            "I0114 18:13:12.469904 139626765748096 efficientnet_model.py:144] round_filter input=112 output=136\n",
            "I0114 18:13:12.470091 139626765748096 efficientnet_model.py:144] round_filter input=192 output=232\n",
            "I0114 18:13:13.061286 139626765748096 efficientnet_model.py:144] round_filter input=192 output=232\n",
            "I0114 18:13:13.061480 139626765748096 efficientnet_model.py:144] round_filter input=320 output=384\n",
            "I0114 18:13:13.301198 139626765748096 efficientnet_model.py:144] round_filter input=1280 output=1536\n",
            "I0114 18:13:13.364348 139626765748096 efficientnet_model.py:454] Building model efficientnet with params ModelConfig(width_coefficient=1.2, depth_coefficient=1.4, resolution=300, dropout_rate=0.3, blocks=(BlockConfig(input_filters=32, output_filters=16, kernel_size=3, num_repeat=1, expand_ratio=1, strides=(1, 1), se_ratio=0.25, id_skip=True, fused_conv=False, conv_type='depthwise'), BlockConfig(input_filters=16, output_filters=24, kernel_size=3, num_repeat=2, expand_ratio=6, strides=(2, 2), se_ratio=0.25, id_skip=True, fused_conv=False, conv_type='depthwise'), BlockConfig(input_filters=24, output_filters=40, kernel_size=5, num_repeat=2, expand_ratio=6, strides=(2, 2), se_ratio=0.25, id_skip=True, fused_conv=False, conv_type='depthwise'), BlockConfig(input_filters=40, output_filters=80, kernel_size=3, num_repeat=3, expand_ratio=6, strides=(2, 2), se_ratio=0.25, id_skip=True, fused_conv=False, conv_type='depthwise'), BlockConfig(input_filters=80, output_filters=112, kernel_size=5, num_repeat=3, expand_ratio=6, strides=(1, 1), se_ratio=0.25, id_skip=True, fused_conv=False, conv_type='depthwise'), BlockConfig(input_filters=112, output_filters=192, kernel_size=5, num_repeat=4, expand_ratio=6, strides=(2, 2), se_ratio=0.25, id_skip=True, fused_conv=False, conv_type='depthwise'), BlockConfig(input_filters=192, output_filters=320, kernel_size=3, num_repeat=1, expand_ratio=6, strides=(1, 1), se_ratio=0.25, id_skip=True, fused_conv=False, conv_type='depthwise')), stem_base_filters=32, top_base_filters=1280, activation='simple_swish', batch_norm='default', bn_momentum=0.99, bn_epsilon=0.001, weight_decay=5e-06, drop_connect_rate=0.2, depth_divisor=8, min_depth=None, use_se=True, input_channels=3, num_classes=1000, model_name='efficientnet', rescale_input=False, data_format='channels_last', dtype='float32')\n",
            "I0114 18:13:13.436956 139626765748096 ssd_efficientnet_bifpn_feature_extractor.py:146] EfficientDet EfficientNet backbone version: efficientnet-b4\n",
            "I0114 18:13:13.437142 139626765748096 ssd_efficientnet_bifpn_feature_extractor.py:147] EfficientDet BiFPN num filters: 224\n",
            "I0114 18:13:13.437225 139626765748096 ssd_efficientnet_bifpn_feature_extractor.py:149] EfficientDet BiFPN num iterations: 7\n",
            "I0114 18:13:13.438960 139626765748096 efficientnet_model.py:144] round_filter input=32 output=48\n",
            "I0114 18:13:13.454154 139626765748096 efficientnet_model.py:144] round_filter input=32 output=48\n",
            "I0114 18:13:13.454278 139626765748096 efficientnet_model.py:144] round_filter input=16 output=24\n",
            "I0114 18:13:13.577162 139626765748096 efficientnet_model.py:144] round_filter input=16 output=24\n",
            "I0114 18:13:13.577343 139626765748096 efficientnet_model.py:144] round_filter input=24 output=32\n",
            "I0114 18:13:13.884763 139626765748096 efficientnet_model.py:144] round_filter input=24 output=32\n",
            "I0114 18:13:13.884950 139626765748096 efficientnet_model.py:144] round_filter input=40 output=56\n",
            "I0114 18:13:14.199368 139626765748096 efficientnet_model.py:144] round_filter input=40 output=56\n",
            "I0114 18:13:14.199539 139626765748096 efficientnet_model.py:144] round_filter input=80 output=112\n",
            "I0114 18:13:14.702884 139626765748096 efficientnet_model.py:144] round_filter input=80 output=112\n",
            "I0114 18:13:14.703081 139626765748096 efficientnet_model.py:144] round_filter input=112 output=160\n",
            "I0114 18:13:15.222546 139626765748096 efficientnet_model.py:144] round_filter input=112 output=160\n",
            "I0114 18:13:15.222718 139626765748096 efficientnet_model.py:144] round_filter input=192 output=272\n",
            "I0114 18:13:16.310899 139626765748096 efficientnet_model.py:144] round_filter input=192 output=272\n",
            "I0114 18:13:16.311104 139626765748096 efficientnet_model.py:144] round_filter input=320 output=448\n",
            "I0114 18:13:16.574942 139626765748096 efficientnet_model.py:144] round_filter input=1280 output=1792\n",
            "I0114 18:13:16.642426 139626765748096 efficientnet_model.py:454] Building model efficientnet with params ModelConfig(width_coefficient=1.4, depth_coefficient=1.8, resolution=380, dropout_rate=0.4, blocks=(BlockConfig(input_filters=32, output_filters=16, kernel_size=3, num_repeat=1, expand_ratio=1, strides=(1, 1), se_ratio=0.25, id_skip=True, fused_conv=False, conv_type='depthwise'), BlockConfig(input_filters=16, output_filters=24, kernel_size=3, num_repeat=2, expand_ratio=6, strides=(2, 2), se_ratio=0.25, id_skip=True, fused_conv=False, conv_type='depthwise'), BlockConfig(input_filters=24, output_filters=40, kernel_size=5, num_repeat=2, expand_ratio=6, strides=(2, 2), se_ratio=0.25, id_skip=True, fused_conv=False, conv_type='depthwise'), BlockConfig(input_filters=40, output_filters=80, kernel_size=3, num_repeat=3, expand_ratio=6, strides=(2, 2), se_ratio=0.25, id_skip=True, fused_conv=False, conv_type='depthwise'), BlockConfig(input_filters=80, output_filters=112, kernel_size=5, num_repeat=3, expand_ratio=6, strides=(1, 1), se_ratio=0.25, id_skip=True, fused_conv=False, conv_type='depthwise'), BlockConfig(input_filters=112, output_filters=192, kernel_size=5, num_repeat=4, expand_ratio=6, strides=(2, 2), se_ratio=0.25, id_skip=True, fused_conv=False, conv_type='depthwise'), BlockConfig(input_filters=192, output_filters=320, kernel_size=3, num_repeat=1, expand_ratio=6, strides=(1, 1), se_ratio=0.25, id_skip=True, fused_conv=False, conv_type='depthwise')), stem_base_filters=32, top_base_filters=1280, activation='simple_swish', batch_norm='default', bn_momentum=0.99, bn_epsilon=0.001, weight_decay=5e-06, drop_connect_rate=0.2, depth_divisor=8, min_depth=None, use_se=True, input_channels=3, num_classes=1000, model_name='efficientnet', rescale_input=False, data_format='channels_last', dtype='float32')\n",
            "I0114 18:13:16.727387 139626765748096 ssd_efficientnet_bifpn_feature_extractor.py:146] EfficientDet EfficientNet backbone version: efficientnet-b5\n",
            "I0114 18:13:16.727576 139626765748096 ssd_efficientnet_bifpn_feature_extractor.py:147] EfficientDet BiFPN num filters: 288\n",
            "I0114 18:13:16.727663 139626765748096 ssd_efficientnet_bifpn_feature_extractor.py:149] EfficientDet BiFPN num iterations: 7\n",
            "I0114 18:13:16.729494 139626765748096 efficientnet_model.py:144] round_filter input=32 output=48\n",
            "I0114 18:13:16.745279 139626765748096 efficientnet_model.py:144] round_filter input=32 output=48\n",
            "I0114 18:13:16.745423 139626765748096 efficientnet_model.py:144] round_filter input=16 output=24\n",
            "I0114 18:13:16.936767 139626765748096 efficientnet_model.py:144] round_filter input=16 output=24\n",
            "I0114 18:13:16.936955 139626765748096 efficientnet_model.py:144] round_filter input=24 output=40\n",
            "I0114 18:13:17.344995 139626765748096 efficientnet_model.py:144] round_filter input=24 output=40\n",
            "I0114 18:13:17.345175 139626765748096 efficientnet_model.py:144] round_filter input=40 output=64\n",
            "I0114 18:13:17.735055 139626765748096 efficientnet_model.py:144] round_filter input=40 output=64\n",
            "I0114 18:13:17.735234 139626765748096 efficientnet_model.py:144] round_filter input=80 output=128\n",
            "I0114 18:13:18.322289 139626765748096 efficientnet_model.py:144] round_filter input=80 output=128\n",
            "I0114 18:13:18.322470 139626765748096 efficientnet_model.py:144] round_filter input=112 output=176\n",
            "I0114 18:13:18.941271 139626765748096 efficientnet_model.py:144] round_filter input=112 output=176\n",
            "I0114 18:13:18.941460 139626765748096 efficientnet_model.py:144] round_filter input=192 output=304\n",
            "I0114 18:13:19.941494 139626765748096 efficientnet_model.py:144] round_filter input=192 output=304\n",
            "I0114 18:13:19.941669 139626765748096 efficientnet_model.py:144] round_filter input=320 output=512\n",
            "I0114 18:13:20.411243 139626765748096 efficientnet_model.py:144] round_filter input=1280 output=2048\n",
            "I0114 18:13:20.488903 139626765748096 efficientnet_model.py:454] Building model efficientnet with params ModelConfig(width_coefficient=1.6, depth_coefficient=2.2, resolution=456, dropout_rate=0.4, blocks=(BlockConfig(input_filters=32, output_filters=16, kernel_size=3, num_repeat=1, expand_ratio=1, strides=(1, 1), se_ratio=0.25, id_skip=True, fused_conv=False, conv_type='depthwise'), BlockConfig(input_filters=16, output_filters=24, kernel_size=3, num_repeat=2, expand_ratio=6, strides=(2, 2), se_ratio=0.25, id_skip=True, fused_conv=False, conv_type='depthwise'), BlockConfig(input_filters=24, output_filters=40, kernel_size=5, num_repeat=2, expand_ratio=6, strides=(2, 2), se_ratio=0.25, id_skip=True, fused_conv=False, conv_type='depthwise'), BlockConfig(input_filters=40, output_filters=80, kernel_size=3, num_repeat=3, expand_ratio=6, strides=(2, 2), se_ratio=0.25, id_skip=True, fused_conv=False, conv_type='depthwise'), BlockConfig(input_filters=80, output_filters=112, kernel_size=5, num_repeat=3, expand_ratio=6, strides=(1, 1), se_ratio=0.25, id_skip=True, fused_conv=False, conv_type='depthwise'), BlockConfig(input_filters=112, output_filters=192, kernel_size=5, num_repeat=4, expand_ratio=6, strides=(2, 2), se_ratio=0.25, id_skip=True, fused_conv=False, conv_type='depthwise'), BlockConfig(input_filters=192, output_filters=320, kernel_size=3, num_repeat=1, expand_ratio=6, strides=(1, 1), se_ratio=0.25, id_skip=True, fused_conv=False, conv_type='depthwise')), stem_base_filters=32, top_base_filters=1280, activation='simple_swish', batch_norm='default', bn_momentum=0.99, bn_epsilon=0.001, weight_decay=5e-06, drop_connect_rate=0.2, depth_divisor=8, min_depth=None, use_se=True, input_channels=3, num_classes=1000, model_name='efficientnet', rescale_input=False, data_format='channels_last', dtype='float32')\n",
            "I0114 18:13:20.588352 139626765748096 ssd_efficientnet_bifpn_feature_extractor.py:146] EfficientDet EfficientNet backbone version: efficientnet-b6\n",
            "I0114 18:13:20.588511 139626765748096 ssd_efficientnet_bifpn_feature_extractor.py:147] EfficientDet BiFPN num filters: 384\n",
            "I0114 18:13:20.588571 139626765748096 ssd_efficientnet_bifpn_feature_extractor.py:149] EfficientDet BiFPN num iterations: 8\n",
            "I0114 18:13:20.590336 139626765748096 efficientnet_model.py:144] round_filter input=32 output=56\n",
            "I0114 18:13:20.605526 139626765748096 efficientnet_model.py:144] round_filter input=32 output=56\n",
            "I0114 18:13:20.605643 139626765748096 efficientnet_model.py:144] round_filter input=16 output=32\n",
            "I0114 18:13:20.788156 139626765748096 efficientnet_model.py:144] round_filter input=16 output=32\n",
            "I0114 18:13:20.788314 139626765748096 efficientnet_model.py:144] round_filter input=24 output=40\n",
            "I0114 18:13:21.260850 139626765748096 efficientnet_model.py:144] round_filter input=24 output=40\n",
            "I0114 18:13:21.261045 139626765748096 efficientnet_model.py:144] round_filter input=40 output=72\n",
            "I0114 18:13:21.740700 139626765748096 efficientnet_model.py:144] round_filter input=40 output=72\n",
            "I0114 18:13:21.740885 139626765748096 efficientnet_model.py:144] round_filter input=80 output=144\n",
            "I0114 18:13:22.690886 139626765748096 efficientnet_model.py:144] round_filter input=80 output=144\n",
            "I0114 18:13:22.691086 139626765748096 efficientnet_model.py:144] round_filter input=112 output=200\n",
            "I0114 18:13:23.431316 139626765748096 efficientnet_model.py:144] round_filter input=112 output=200\n",
            "I0114 18:13:23.431502 139626765748096 efficientnet_model.py:144] round_filter input=192 output=344\n",
            "I0114 18:13:24.722941 139626765748096 efficientnet_model.py:144] round_filter input=192 output=344\n",
            "I0114 18:13:24.723134 139626765748096 efficientnet_model.py:144] round_filter input=320 output=576\n",
            "I0114 18:13:25.242624 139626765748096 efficientnet_model.py:144] round_filter input=1280 output=2304\n",
            "I0114 18:13:25.329489 139626765748096 efficientnet_model.py:454] Building model efficientnet with params ModelConfig(width_coefficient=1.8, depth_coefficient=2.6, resolution=528, dropout_rate=0.5, blocks=(BlockConfig(input_filters=32, output_filters=16, kernel_size=3, num_repeat=1, expand_ratio=1, strides=(1, 1), se_ratio=0.25, id_skip=True, fused_conv=False, conv_type='depthwise'), BlockConfig(input_filters=16, output_filters=24, kernel_size=3, num_repeat=2, expand_ratio=6, strides=(2, 2), se_ratio=0.25, id_skip=True, fused_conv=False, conv_type='depthwise'), BlockConfig(input_filters=24, output_filters=40, kernel_size=5, num_repeat=2, expand_ratio=6, strides=(2, 2), se_ratio=0.25, id_skip=True, fused_conv=False, conv_type='depthwise'), BlockConfig(input_filters=40, output_filters=80, kernel_size=3, num_repeat=3, expand_ratio=6, strides=(2, 2), se_ratio=0.25, id_skip=True, fused_conv=False, conv_type='depthwise'), BlockConfig(input_filters=80, output_filters=112, kernel_size=5, num_repeat=3, expand_ratio=6, strides=(1, 1), se_ratio=0.25, id_skip=True, fused_conv=False, conv_type='depthwise'), BlockConfig(input_filters=112, output_filters=192, kernel_size=5, num_repeat=4, expand_ratio=6, strides=(2, 2), se_ratio=0.25, id_skip=True, fused_conv=False, conv_type='depthwise'), BlockConfig(input_filters=192, output_filters=320, kernel_size=3, num_repeat=1, expand_ratio=6, strides=(1, 1), se_ratio=0.25, id_skip=True, fused_conv=False, conv_type='depthwise')), stem_base_filters=32, top_base_filters=1280, activation='simple_swish', batch_norm='default', bn_momentum=0.99, bn_epsilon=0.001, weight_decay=5e-06, drop_connect_rate=0.2, depth_divisor=8, min_depth=None, use_se=True, input_channels=3, num_classes=1000, model_name='efficientnet', rescale_input=False, data_format='channels_last', dtype='float32')\n",
            "I0114 18:13:25.443722 139626765748096 ssd_efficientnet_bifpn_feature_extractor.py:146] EfficientDet EfficientNet backbone version: efficientnet-b7\n",
            "I0114 18:13:25.443936 139626765748096 ssd_efficientnet_bifpn_feature_extractor.py:147] EfficientDet BiFPN num filters: 384\n",
            "I0114 18:13:25.444063 139626765748096 ssd_efficientnet_bifpn_feature_extractor.py:149] EfficientDet BiFPN num iterations: 8\n",
            "I0114 18:13:25.446903 139626765748096 efficientnet_model.py:144] round_filter input=32 output=64\n",
            "I0114 18:13:25.464057 139626765748096 efficientnet_model.py:144] round_filter input=32 output=64\n",
            "I0114 18:13:25.464176 139626765748096 efficientnet_model.py:144] round_filter input=16 output=32\n",
            "I0114 18:13:25.710711 139626765748096 efficientnet_model.py:144] round_filter input=16 output=32\n",
            "I0114 18:13:25.710882 139626765748096 efficientnet_model.py:144] round_filter input=24 output=48\n",
            "I0114 18:13:26.266758 139626765748096 efficientnet_model.py:144] round_filter input=24 output=48\n",
            "I0114 18:13:26.266946 139626765748096 efficientnet_model.py:144] round_filter input=40 output=80\n",
            "I0114 18:13:26.838215 139626765748096 efficientnet_model.py:144] round_filter input=40 output=80\n",
            "I0114 18:13:26.838390 139626765748096 efficientnet_model.py:144] round_filter input=80 output=160\n",
            "I0114 18:13:27.721737 139626765748096 efficientnet_model.py:144] round_filter input=80 output=160\n",
            "I0114 18:13:27.721931 139626765748096 efficientnet_model.py:144] round_filter input=112 output=224\n",
            "I0114 18:13:28.671583 139626765748096 efficientnet_model.py:144] round_filter input=112 output=224\n",
            "I0114 18:13:28.671765 139626765748096 efficientnet_model.py:144] round_filter input=192 output=384\n",
            "I0114 18:13:30.573897 139626765748096 efficientnet_model.py:144] round_filter input=192 output=384\n",
            "I0114 18:13:30.574093 139626765748096 efficientnet_model.py:144] round_filter input=320 output=640\n",
            "I0114 18:13:31.374525 139626765748096 efficientnet_model.py:144] round_filter input=1280 output=2560\n",
            "I0114 18:13:31.467428 139626765748096 efficientnet_model.py:454] Building model efficientnet with params ModelConfig(width_coefficient=2.0, depth_coefficient=3.1, resolution=600, dropout_rate=0.5, blocks=(BlockConfig(input_filters=32, output_filters=16, kernel_size=3, num_repeat=1, expand_ratio=1, strides=(1, 1), se_ratio=0.25, id_skip=True, fused_conv=False, conv_type='depthwise'), BlockConfig(input_filters=16, output_filters=24, kernel_size=3, num_repeat=2, expand_ratio=6, strides=(2, 2), se_ratio=0.25, id_skip=True, fused_conv=False, conv_type='depthwise'), BlockConfig(input_filters=24, output_filters=40, kernel_size=5, num_repeat=2, expand_ratio=6, strides=(2, 2), se_ratio=0.25, id_skip=True, fused_conv=False, conv_type='depthwise'), BlockConfig(input_filters=40, output_filters=80, kernel_size=3, num_repeat=3, expand_ratio=6, strides=(2, 2), se_ratio=0.25, id_skip=True, fused_conv=False, conv_type='depthwise'), BlockConfig(input_filters=80, output_filters=112, kernel_size=5, num_repeat=3, expand_ratio=6, strides=(1, 1), se_ratio=0.25, id_skip=True, fused_conv=False, conv_type='depthwise'), BlockConfig(input_filters=112, output_filters=192, kernel_size=5, num_repeat=4, expand_ratio=6, strides=(2, 2), se_ratio=0.25, id_skip=True, fused_conv=False, conv_type='depthwise'), BlockConfig(input_filters=192, output_filters=320, kernel_size=3, num_repeat=1, expand_ratio=6, strides=(1, 1), se_ratio=0.25, id_skip=True, fused_conv=False, conv_type='depthwise')), stem_base_filters=32, top_base_filters=1280, activation='simple_swish', batch_norm='default', bn_momentum=0.99, bn_epsilon=0.001, weight_decay=5e-06, drop_connect_rate=0.2, depth_divisor=8, min_depth=None, use_se=True, input_channels=3, num_classes=1000, model_name='efficientnet', rescale_input=False, data_format='channels_last', dtype='float32')\n",
            "INFO:tensorflow:time(__main__.ModelBuilderTF2Test.test_create_ssd_models_from_config): 26.66s\n",
            "I0114 18:13:31.614310 139626765748096 test_util.py:2309] time(__main__.ModelBuilderTF2Test.test_create_ssd_models_from_config): 26.66s\n",
            "[       OK ] ModelBuilderTF2Test.test_create_ssd_models_from_config\n",
            "[ RUN      ] ModelBuilderTF2Test.test_invalid_faster_rcnn_batchnorm_update\n",
            "INFO:tensorflow:time(__main__.ModelBuilderTF2Test.test_invalid_faster_rcnn_batchnorm_update): 0.0s\n",
            "I0114 18:13:31.620959 139626765748096 test_util.py:2309] time(__main__.ModelBuilderTF2Test.test_invalid_faster_rcnn_batchnorm_update): 0.0s\n",
            "[       OK ] ModelBuilderTF2Test.test_invalid_faster_rcnn_batchnorm_update\n",
            "[ RUN      ] ModelBuilderTF2Test.test_invalid_first_stage_nms_iou_threshold\n",
            "INFO:tensorflow:time(__main__.ModelBuilderTF2Test.test_invalid_first_stage_nms_iou_threshold): 0.0s\n",
            "I0114 18:13:31.622811 139626765748096 test_util.py:2309] time(__main__.ModelBuilderTF2Test.test_invalid_first_stage_nms_iou_threshold): 0.0s\n",
            "[       OK ] ModelBuilderTF2Test.test_invalid_first_stage_nms_iou_threshold\n",
            "[ RUN      ] ModelBuilderTF2Test.test_invalid_model_config_proto\n",
            "INFO:tensorflow:time(__main__.ModelBuilderTF2Test.test_invalid_model_config_proto): 0.0s\n",
            "I0114 18:13:31.623379 139626765748096 test_util.py:2309] time(__main__.ModelBuilderTF2Test.test_invalid_model_config_proto): 0.0s\n",
            "[       OK ] ModelBuilderTF2Test.test_invalid_model_config_proto\n",
            "[ RUN      ] ModelBuilderTF2Test.test_invalid_second_stage_batch_size\n",
            "INFO:tensorflow:time(__main__.ModelBuilderTF2Test.test_invalid_second_stage_batch_size): 0.0s\n",
            "I0114 18:13:31.625067 139626765748096 test_util.py:2309] time(__main__.ModelBuilderTF2Test.test_invalid_second_stage_batch_size): 0.0s\n",
            "[       OK ] ModelBuilderTF2Test.test_invalid_second_stage_batch_size\n",
            "[ RUN      ] ModelBuilderTF2Test.test_session\n",
            "[  SKIPPED ] ModelBuilderTF2Test.test_session\n",
            "[ RUN      ] ModelBuilderTF2Test.test_unknown_faster_rcnn_feature_extractor\n",
            "INFO:tensorflow:time(__main__.ModelBuilderTF2Test.test_unknown_faster_rcnn_feature_extractor): 0.0s\n",
            "I0114 18:13:31.626643 139626765748096 test_util.py:2309] time(__main__.ModelBuilderTF2Test.test_unknown_faster_rcnn_feature_extractor): 0.0s\n",
            "[       OK ] ModelBuilderTF2Test.test_unknown_faster_rcnn_feature_extractor\n",
            "[ RUN      ] ModelBuilderTF2Test.test_unknown_meta_architecture\n",
            "INFO:tensorflow:time(__main__.ModelBuilderTF2Test.test_unknown_meta_architecture): 0.0s\n",
            "I0114 18:13:31.627195 139626765748096 test_util.py:2309] time(__main__.ModelBuilderTF2Test.test_unknown_meta_architecture): 0.0s\n",
            "[       OK ] ModelBuilderTF2Test.test_unknown_meta_architecture\n",
            "[ RUN      ] ModelBuilderTF2Test.test_unknown_ssd_feature_extractor\n",
            "INFO:tensorflow:time(__main__.ModelBuilderTF2Test.test_unknown_ssd_feature_extractor): 0.0s\n",
            "I0114 18:13:31.628298 139626765748096 test_util.py:2309] time(__main__.ModelBuilderTF2Test.test_unknown_ssd_feature_extractor): 0.0s\n",
            "[       OK ] ModelBuilderTF2Test.test_unknown_ssd_feature_extractor\n",
            "----------------------------------------------------------------------\n",
            "Ran 24 tests in 31.836s\n",
            "\n",
            "OK (skipped=1)\n"
          ]
        }
      ],
      "source": [
        "# Test if the Object Dectection API is working correctly\n",
        "!python object_detection/builders/model_builder_tf2_test.py "
      ]
    },
    {
      "cell_type": "code",
      "execution_count": null,
      "metadata": {
        "colab": {
          "base_uri": "https://localhost:8080/"
        },
        "id": "502j28kHFLXr",
        "outputId": "cf4c20e1-d23e-421c-c1f0-3ae182c61b6d"
      },
      "outputs": [
        {
          "output_type": "stream",
          "name": "stdout",
          "text": [
            "2.7.0\n"
          ]
        }
      ],
      "source": [
        "import tensorflow as tf\n",
        "\n",
        "print(tf.__version__)\n",
        "\n"
      ]
    },
    {
      "cell_type": "markdown",
      "metadata": {
        "id": "OlAQLmCP_SgS"
      },
      "source": [
        "## Downloading dataset"
      ]
    },
    {
      "cell_type": "code",
      "execution_count": null,
      "metadata": {
        "colab": {
          "base_uri": "https://localhost:8080/"
        },
        "id": "kt6InSbZ61rD",
        "outputId": "e705cca0-5245-432e-acbc-74372166f445"
      },
      "outputs": [
        {
          "name": "stdout",
          "output_type": "stream",
          "text": [
            "Downloading potholes-object-detection.zip to /content/drive/MyDrive/Colab_Notebooks/TF_object_detection\n",
            "\n"
          ]
        },
        {
          "name": "stderr",
          "output_type": "stream",
          "text": [
            "\r  0%|          | 0.00/334M [00:00<?, ?B/s]\r  1%|1         | 5.00M/334M [00:00<00:06, 49.7MB/s]\r  4%|3         | 13.0M/334M [00:00<00:06, 56.1MB/s]\r  6%|6         | 21.0M/334M [00:00<00:05, 61.6MB/s]\r 10%|9         | 32.0M/334M [00:00<00:04, 71.5MB/s]\r 13%|#3        | 44.0M/334M [00:00<00:03, 81.2MB/s]\r 16%|#6        | 55.0M/334M [00:00<00:03, 88.5MB/s]\r 19%|#9        | 64.0M/334M [00:00<00:03, 84.0MB/s]\r 23%|##2       | 76.0M/334M [00:00<00:02, 92.1MB/s]\r 26%|##6       | 87.0M/334M [00:00<00:02, 97.3MB/s]\r 29%|##8       | 97.0M/334M [00:01<00:02, 99.3MB/s]\r 32%|###2      | 108M/334M [00:01<00:02, 102MB/s]  \r 35%|###5      | 118M/334M [00:01<00:02, 81.4MB/s]\r 38%|###8      | 128M/334M [00:01<00:02, 86.3MB/s]\r 41%|####1     | 138M/334M [00:01<00:02, 90.5MB/s]\r 45%|####4     | 149M/334M [00:01<00:02, 96.4MB/s]\r 48%|####8     | 161M/334M [00:01<00:01, 103MB/s] \r 52%|#####1    | 173M/334M [00:01<00:01, 108MB/s]\r 55%|#####5    | 185M/334M [00:01<00:01, 112MB/s]\r 59%|#####8    | 196M/334M [00:02<00:01, 111MB/s]\r 62%|######2   | 208M/334M [00:02<00:01, 112MB/s]\r 65%|######5   | 219M/334M [00:02<00:01, 104MB/s]\r 69%|######9   | 231M/334M [00:02<00:00, 109MB/s]\r 72%|#######2  | 242M/334M [00:02<00:00, 111MB/s]\r 76%|#######5  | 253M/334M [00:02<00:00, 111MB/s]\r 79%|#######8  | 264M/334M [00:02<00:00, 111MB/s]\r 83%|########2 | 276M/334M [00:02<00:00, 112MB/s]\r 86%|########5 | 287M/334M [00:02<00:00, 113MB/s]\r 89%|########9 | 299M/334M [00:03<00:00, 115MB/s]\r 93%|#########2| 311M/334M [00:03<00:00, 116MB/s]\r 97%|#########6| 323M/334M [00:03<00:00, 118MB/s]\r100%|##########| 334M/334M [00:03<00:00, 118MB/s]\n"
          ]
        }
      ],
      "source": [
        "%%bash\n",
        "cd /content/drive/MyDrive/Colab_Notebooks/TF_object_detection\n",
        "kaggle datasets download -d yamqwe/potholes-object-detection"
      ]
    },
    {
      "cell_type": "code",
      "execution_count": null,
      "metadata": {
        "colab": {
          "base_uri": "https://localhost:8080/"
        },
        "id": "iIg2Y-gS8eLw",
        "outputId": "1cd7340f-c952-4bda-b02f-c17fddf03670"
      },
      "outputs": [
        {
          "name": "stdout",
          "output_type": "stream",
          "text": [
            "/content/drive/MyDrive/Colab_Notebooks/TF_object_detection\n"
          ]
        }
      ],
      "source": [
        "%cd /content/drive/MyDrive/Colab_Notebooks/TF_object_detection"
      ]
    },
    {
      "cell_type": "code",
      "execution_count": null,
      "metadata": {
        "id": "-6LHKLOz6GsM"
      },
      "outputs": [],
      "source": [
        "import os\n",
        "IMAGE_PATH = '/content/drive/MyDrive/Colab_Notebooks/TF_object_detection/potholes-object-detection'\n",
        "\n",
        "if not os.path.exists(IMAGE_PATH):\n",
        "    !mkdir -p {IMAGE_PATH}\n",
        "    !mv potholes-object-detection.zip {IMAGE_PATH}\n",
        "    %cd {IMAGE_PATH}\n",
        "    !unzip potholes-object-detection.zip"
      ]
    },
    {
      "cell_type": "code",
      "execution_count": null,
      "metadata": {
        "colab": {
          "base_uri": "https://localhost:8080/"
        },
        "id": "1jVmt1f96d4i",
        "outputId": "184f31c8-d76a-494b-c507-b57b3bb6229a"
      },
      "outputs": [
        {
          "name": "stdout",
          "output_type": "stream",
          "text": [
            "\u001b[0m\u001b[01;34mmodels\u001b[0m/  potholes-object-detection.zip  Tf_object_detection.ipynb\n"
          ]
        }
      ],
      "source": [
        "ls"
      ]
    },
    {
      "cell_type": "code",
      "execution_count": null,
      "metadata": {
        "id": "TTIzevPt1zi0"
      },
      "outputs": [],
      "source": [
        "import numpy as np\n",
        "import os\n",
        "import six.moves.urllib as urllib\n",
        "import sys\n",
        "import tarfile\n",
        "import tensorflow as tf\n",
        "import zipfile\n",
        "\n",
        "from collections import defaultdict\n",
        "from io import StringIO\n",
        "from matplotlib import pyplot as plt\n",
        "from PIL import Image\n",
        "from IPython.display import display"
      ]
    },
    {
      "cell_type": "code",
      "execution_count": null,
      "metadata": {
        "id": "eFxSVwEI0IhS"
      },
      "outputs": [],
      "source": [
        "from object_detection.utils import ops as utils_ops\n",
        "from object_detection.utils import label_map_util\n",
        "from object_detection.utils import visualization_utils as vis_util"
      ]
    },
    {
      "cell_type": "code",
      "execution_count": null,
      "metadata": {
        "id": "MB2yp5jy0MTt"
      },
      "outputs": [],
      "source": [
        "# patch tf1 into `utils.ops`\n",
        "utils_ops.tf = tf.compat.v1\n",
        "\n",
        "# Patch the location of gfile\n",
        "tf.gfile = tf.io.gfile"
      ]
    },
    {
      "cell_type": "code",
      "execution_count": null,
      "metadata": {
        "id": "_pU9V-nr0RPg"
      },
      "outputs": [],
      "source": [
        "def load_model(model_name):\n",
        "  base_url = 'http://download.tensorflow.org/models/object_detection/'\n",
        "  model_file = model_name + '.tar.gz'\n",
        "  model_dir = tf.keras.utils.get_file(\n",
        "    fname=model_name, \n",
        "    origin=base_url + model_file,\n",
        "    untar=True)\n",
        "\n",
        "  model_dir = pathlib.Path(model_dir)/\"saved_model\"\n",
        "\n",
        "  model = tf.saved_model.load(str(model_dir))\n",
        "\n",
        "  return model"
      ]
    },
    {
      "cell_type": "markdown",
      "metadata": {
        "id": "imp4zHbNbzNq"
      },
      "source": [
        "### Create label map"
      ]
    },
    {
      "cell_type": "code",
      "execution_count": null,
      "metadata": {
        "id": "4u4yKyNf391A"
      },
      "outputs": [],
      "source": [
        "LABEL_MAP_PATH = '/content/drive/MyDrive/Colab_Notebooks/TF_object_detection/potholes-object-detection/annotations/label_map.pbtxt'"
      ]
    },
    {
      "cell_type": "code",
      "execution_count": null,
      "metadata": {
        "id": "JM4cA50y3Dsl"
      },
      "outputs": [],
      "source": [
        "labels = [{'name':'pothole', 'id':1}]\n",
        "\n",
        "with open(LABEL_MAP_PATH, 'w') as f:\n",
        "    for label in labels:\n",
        "        f.write('item { \\n')\n",
        "        f.write('\\tname:\\'{}\\'\\n'.format(label['name']))\n",
        "        f.write('\\tid:{}\\n'.format(label['id']))\n",
        "        f.write('}\\n')"
      ]
    },
    {
      "cell_type": "markdown",
      "metadata": {
        "id": "efAxpMdbY_rW"
      },
      "source": [
        "### Move annotations in image folder and train/test split"
      ]
    },
    {
      "cell_type": "code",
      "execution_count": null,
      "metadata": {
        "id": "5apnqCrnaqm2"
      },
      "outputs": [],
      "source": [
        "#Info https://tensorflow-object-detection-api-tutorial.readthedocs.io/en/latest/training.html\n",
        "%%bash\n",
        "\n",
        "cd /content/drive/MyDrive/Colab_Notebooks/TF_object_detection/potholes-object-detection/annotations\n",
        "mv * /content/drive/MyDrive/Colab_Notebooks/TF_object_detection/potholes-object-detection/images\n",
        "cd /content/drive/MyDrive/Colab_Notebooks/TF_object_detection\n",
        "\n",
        "mkdir scripts\n",
        "cd scripts\n",
        "wget https://tensorflow-object-detection-api-tutorial.readthedocs.io/en/latest/_downloads/d0e545609c5f7f49f39abc7b6a38cec3/partition_dataset.py\n",
        "python partition_dataset.py -x -i /content/drive/MyDrive/Colab_Notebooks/TF_object_detection/potholes-object-detection/images -r 0.1"
      ]
    },
    {
      "cell_type": "markdown",
      "metadata": {
        "id": "Mp_9uL-teUTE"
      },
      "source": [
        "### Create TF_records"
      ]
    },
    {
      "cell_type": "code",
      "execution_count": null,
      "metadata": {
        "colab": {
          "base_uri": "https://localhost:8080/"
        },
        "id": "46qGGa_RccLi",
        "outputId": "ca8e653f-2383-402c-e184-4993bd9c644a"
      },
      "outputs": [
        {
          "name": "stderr",
          "output_type": "stream",
          "text": [
            "--2022-01-14 10:33:41--  https://tensorflow-object-detection-api-tutorial.readthedocs.io/en/latest/_downloads/da4babe668a8afb093cc7776d7e630f3/generate_tfrecord.py\n",
            "Resolving tensorflow-object-detection-api-tutorial.readthedocs.io (tensorflow-object-detection-api-tutorial.readthedocs.io)... 104.17.33.82, 104.17.32.82, 2606:4700::6811:2152, ...\n",
            "Connecting to tensorflow-object-detection-api-tutorial.readthedocs.io (tensorflow-object-detection-api-tutorial.readthedocs.io)|104.17.33.82|:443... connected.\n",
            "HTTP request sent, awaiting response... 200 OK\n",
            "Length: 6410 (6.3K) [text/x-python]\n",
            "Saving to: ‘generate_tfrecord.py.1’\n",
            "\n",
            "     0K ......                                                100% 3.80M=0.002s\n",
            "\n",
            "2022-01-14 10:33:41 (3.80 MB/s) - ‘generate_tfrecord.py.1’ saved [6410/6410]\n",
            "\n"
          ]
        }
      ],
      "source": [
        "%%bash\n",
        "\n",
        "cd /content/drive/MyDrive/Colab_Notebooks/TF_object_detection/scripts\n",
        "wget https://tensorflow-object-detection-api-tutorial.readthedocs.io/en/latest/_downloads/da4babe668a8afb093cc7776d7e630f3/generate_tfrecord.py"
      ]
    },
    {
      "cell_type": "code",
      "execution_count": null,
      "metadata": {
        "colab": {
          "base_uri": "https://localhost:8080/"
        },
        "id": "_bffug8RJwOJ",
        "outputId": "158d40b2-c88b-4461-9430-ce03504248ac"
      },
      "outputs": [
        {
          "name": "stdout",
          "output_type": "stream",
          "text": [
            "/content/drive/MyDrive/Colab_Notebooks/TF_object_detection/scripts\n"
          ]
        }
      ],
      "source": [
        "%cd /content/drive/MyDrive/Colab_Notebooks/TF_object_detection/scripts"
      ]
    },
    {
      "cell_type": "code",
      "execution_count": null,
      "metadata": {
        "colab": {
          "base_uri": "https://localhost:8080/"
        },
        "id": "CSelR6TwckH-",
        "outputId": "e3ece92e-b4fe-4760-b106-b70794997f96"
      },
      "outputs": [
        {
          "name": "stdout",
          "output_type": "stream",
          "text": [
            "Successfully created the TFRecord file: /content/drive/MyDrive/Colab_Notebooks/TF_object_detection/potholes-object-detection/images/train.record\n",
            "Successfully created the TFRecord file: /content/drive/MyDrive/Colab_Notebooks/TF_object_detection/potholes-object-detection/images/test.record\n"
          ]
        }
      ],
      "source": [
        "!python generate_tfrecord.py -x /content/drive/MyDrive/Colab_Notebooks/TF_object_detection/potholes-object-detection/images/train -l /content/drive/MyDrive/Colab_Notebooks/TF_object_detection/potholes-object-detection/annotations/label_map.pbtxt -o /content/drive/MyDrive/Colab_Notebooks/TF_object_detection/potholes-object-detection/images/train.record\n",
        "!python generate_tfrecord.py -x /content/drive/MyDrive/Colab_Notebooks/TF_object_detection/potholes-object-detection/images/test -l /content/drive/MyDrive/Colab_Notebooks/TF_object_detection/potholes-object-detection/annotations/label_map.pbtxt -o /content/drive/MyDrive/Colab_Notebooks/TF_object_detection/potholes-object-detection/images/test.record"
      ]
    },
    {
      "cell_type": "markdown",
      "metadata": {
        "id": "kvyEUhmsKMmr"
      },
      "source": [
        "## Download model\n",
        "\n",
        "\n"
      ]
    },
    {
      "cell_type": "code",
      "execution_count": null,
      "metadata": {
        "colab": {
          "base_uri": "https://localhost:8080/"
        },
        "id": "b7miOPcWKfo3",
        "outputId": "fea85da1-f169-43d1-f36c-bac73685dc6e"
      },
      "outputs": [
        {
          "name": "stdout",
          "output_type": "stream",
          "text": [
            "/content/drive/MyDrive/Colab_Notebooks/TF_object_detection\n",
            "/content/drive/My Drive/Colab_Notebooks/TF_object_detection/downloading_models\n"
          ]
        }
      ],
      "source": [
        "%cd /content/drive/MyDrive/Colab_Notebooks/TF_object_detection\n",
        "if not os.path.exists('downloading_models'):\n",
        "    !mkdir downloading_models\n",
        "%cd downloading_models"
      ]
    },
    {
      "cell_type": "code",
      "execution_count": null,
      "metadata": {
        "colab": {
          "base_uri": "https://localhost:8080/"
        },
        "id": "pc73h2pjIvqy",
        "outputId": "a9dfe629-311b-4edd-afaa-d297fd22e267"
      },
      "outputs": [
        {
          "name": "stdout",
          "output_type": "stream",
          "text": [
            "centernet_mobilenetv2_fpn_od/\n",
            "centernet_mobilenetv2_fpn_od/model.tflite\n",
            "centernet_mobilenetv2_fpn_od/saved_model/\n",
            "centernet_mobilenetv2_fpn_od/saved_model/saved_model.pb\n",
            "centernet_mobilenetv2_fpn_od/saved_model/variables/\n",
            "centernet_mobilenetv2_fpn_od/saved_model/variables/variables.index\n",
            "centernet_mobilenetv2_fpn_od/saved_model/variables/variables.data-00000-of-00001\n",
            "centernet_mobilenetv2_fpn_od/saved_model/assets/\n",
            "centernet_mobilenetv2_fpn_od/label_map.txt\n",
            "centernet_mobilenetv2_fpn_od/pipeline.config\n",
            "centernet_mobilenetv2_fpn_od/checkpoint/\n",
            "centernet_mobilenetv2_fpn_od/checkpoint/ckpt-301.index\n",
            "centernet_mobilenetv2_fpn_od/checkpoint/checkpoint\n",
            "centernet_mobilenetv2_fpn_od/checkpoint/ckpt-301.data-00000-of-00001\n"
          ]
        }
      ],
      "source": [
        "!wget http://download.tensorflow.org/models/object_detection/tf2/20210210/centernet_mobilenetv2fpn_512x512_coco17_od.tar.gz\n",
        "!tar -xvzf centernet_mobilenetv2fpn_512x512_coco17_od.tar.gz"
      ]
    },
    {
      "cell_type": "code",
      "execution_count": null,
      "metadata": {
        "id": "VLJezvhHNGxk"
      },
      "outputs": [],
      "source": [
        "#manualy change pipline.config"
      ]
    },
    {
      "cell_type": "code",
      "execution_count": null,
      "metadata": {
        "id": "uHBWahANUDV3"
      },
      "outputs": [],
      "source": [
        "#copy training script into script folder\n",
        "!cp /content/drive/MyDrive/Colab_Notebooks/TF_object_detection/models/research/object_detection/model_main_tf2.py /content/drive/MyDrive/Colab_Notebooks/TF_object_detection/scripts"
      ]
    },
    {
      "cell_type": "code",
      "execution_count": null,
      "metadata": {
        "colab": {
          "base_uri": "https://localhost:8080/"
        },
        "id": "Dy2XIS6IU6-1",
        "outputId": "0e48b4c1-4a0e-4dee-82f3-c2cad8c6eecc"
      },
      "outputs": [
        {
          "output_type": "stream",
          "name": "stdout",
          "text": [
            "Downloading data from https://storage.googleapis.com/tensorflow/keras-applications/mobilenet_v2/mobilenet_v2_weights_tf_dim_ordering_tf_kernels_1.0_224_no_top.h5\n",
            "\r  16384/9406464 [..............................] - ETA: 0s\b\b\b\b\b\b\b\b\b\b\b\b\b\b\b\b\b\b\b\b\b\b\b\b\b\b\b\b\b\b\b\b\b\b\b\b\b\b\b\b\b\b\b\b\b\b\b\b\b\b\b\b\b\b\b\b\b\b\r9412608/9406464 [==============================] - 0s 0us/step\n",
            "\b\b\b\b\b\b\b\b\b\b\b\b\b\b\b\b\b\b\b\b\b\b\b\b\b\b\b\b\b\b\b\b\b\b\b\b\b\b\b\b\b\b\b\b\b\b\b\b\b\b\b\b\b\b\b\b\b\b\b\b\b\b\r9420800/9406464 [==============================] - 0s 0us/step\n"
          ]
        },
        {
          "output_type": "stream",
          "name": "stderr",
          "text": [
            "2022-01-14 18:13:56.389873: E tensorflow/stream_executor/cuda/cuda_driver.cc:271] failed call to cuInit: CUDA_ERROR_NO_DEVICE: no CUDA-capable device is detected\n",
            "WARNING:tensorflow:Forced number of epochs for all eval validations to be 1.\n",
            "W0114 18:13:57.125869 140343179253632 model_lib_v2.py:1090] Forced number of epochs for all eval validations to be 1.\n",
            "INFO:tensorflow:Maybe overwriting sample_1_of_n_eval_examples: None\n",
            "I0114 18:13:57.126230 140343179253632 config_util.py:552] Maybe overwriting sample_1_of_n_eval_examples: None\n",
            "INFO:tensorflow:Maybe overwriting use_bfloat16: False\n",
            "I0114 18:13:57.126355 140343179253632 config_util.py:552] Maybe overwriting use_bfloat16: False\n",
            "INFO:tensorflow:Maybe overwriting train_steps: 10\n",
            "I0114 18:13:57.126456 140343179253632 config_util.py:552] Maybe overwriting train_steps: 10\n",
            "INFO:tensorflow:Maybe overwriting eval_num_epochs: 1\n",
            "I0114 18:13:57.126565 140343179253632 config_util.py:552] Maybe overwriting eval_num_epochs: 1\n",
            "WARNING:tensorflow:Expected number of evaluation epochs is 1, but instead encountered `eval_on_train_input_config.num_epochs` = 0. Overwriting `num_epochs` to 1.\n",
            "W0114 18:13:57.126689 140343179253632 model_lib_v2.py:1111] Expected number of evaluation epochs is 1, but instead encountered `eval_on_train_input_config.num_epochs` = 0. Overwriting `num_epochs` to 1.\n",
            "WARNING:tensorflow:`input_shape` is undefined or non-square, or `rows` is not in [96, 128, 160, 192, 224]. Weights for input shape (224, 224) will be loaded as the default.\n",
            "W0114 18:13:57.127892 140343179253632 mobilenet_v2.py:303] `input_shape` is undefined or non-square, or `rows` is not in [96, 128, 160, 192, 224]. Weights for input shape (224, 224) will be loaded as the default.\n",
            "INFO:tensorflow:Reading unweighted datasets: ['/content/drive/MyDrive/Colab_Notebooks/TF_object_detection/potholes-object-detection/images/test.record']\n",
            "I0114 18:13:59.943219 140343179253632 dataset_builder.py:163] Reading unweighted datasets: ['/content/drive/MyDrive/Colab_Notebooks/TF_object_detection/potholes-object-detection/images/test.record']\n",
            "INFO:tensorflow:Reading record datasets for input file: ['/content/drive/MyDrive/Colab_Notebooks/TF_object_detection/potholes-object-detection/images/test.record']\n",
            "I0114 18:14:09.131104 140343179253632 dataset_builder.py:80] Reading record datasets for input file: ['/content/drive/MyDrive/Colab_Notebooks/TF_object_detection/potholes-object-detection/images/test.record']\n",
            "INFO:tensorflow:Number of filenames to read: 1\n",
            "I0114 18:14:09.131392 140343179253632 dataset_builder.py:81] Number of filenames to read: 1\n",
            "WARNING:tensorflow:num_readers has been reduced to 1 to match input file shards.\n",
            "W0114 18:14:09.131517 140343179253632 dataset_builder.py:88] num_readers has been reduced to 1 to match input file shards.\n",
            "WARNING:tensorflow:From /content/drive/MyDrive/Colab_Notebooks/TF_object_detection/models/research/object_detection/builders/dataset_builder.py:105: parallel_interleave (from tensorflow.python.data.experimental.ops.interleave_ops) is deprecated and will be removed in a future version.\n",
            "Instructions for updating:\n",
            "Use `tf.data.Dataset.interleave(map_func, cycle_length, block_length, num_parallel_calls=tf.data.AUTOTUNE)` instead. If sloppy execution is desired, use `tf.data.Options.deterministic`.\n",
            "W0114 18:14:09.136950 140343179253632 deprecation.py:347] From /content/drive/MyDrive/Colab_Notebooks/TF_object_detection/models/research/object_detection/builders/dataset_builder.py:105: parallel_interleave (from tensorflow.python.data.experimental.ops.interleave_ops) is deprecated and will be removed in a future version.\n",
            "Instructions for updating:\n",
            "Use `tf.data.Dataset.interleave(map_func, cycle_length, block_length, num_parallel_calls=tf.data.AUTOTUNE)` instead. If sloppy execution is desired, use `tf.data.Options.deterministic`.\n",
            "WARNING:tensorflow:From /content/drive/MyDrive/Colab_Notebooks/TF_object_detection/models/research/object_detection/builders/dataset_builder.py:237: DatasetV1.map_with_legacy_function (from tensorflow.python.data.ops.dataset_ops) is deprecated and will be removed in a future version.\n",
            "Instructions for updating:\n",
            "Use `tf.data.Dataset.map()\n",
            "W0114 18:14:09.167804 140343179253632 deprecation.py:347] From /content/drive/MyDrive/Colab_Notebooks/TF_object_detection/models/research/object_detection/builders/dataset_builder.py:237: DatasetV1.map_with_legacy_function (from tensorflow.python.data.ops.dataset_ops) is deprecated and will be removed in a future version.\n",
            "Instructions for updating:\n",
            "Use `tf.data.Dataset.map()\n",
            "WARNING:tensorflow:From /usr/local/lib/python3.7/dist-packages/tensorflow/python/util/dispatch.py:1096: sparse_to_dense (from tensorflow.python.ops.sparse_ops) is deprecated and will be removed in a future version.\n",
            "Instructions for updating:\n",
            "Create a `tf.sparse.SparseTensor` and use `tf.sparse.to_dense` instead.\n",
            "W0114 18:14:15.695537 140343179253632 deprecation.py:347] From /usr/local/lib/python3.7/dist-packages/tensorflow/python/util/dispatch.py:1096: sparse_to_dense (from tensorflow.python.ops.sparse_ops) is deprecated and will be removed in a future version.\n",
            "Instructions for updating:\n",
            "Create a `tf.sparse.SparseTensor` and use `tf.sparse.to_dense` instead.\n",
            "WARNING:tensorflow:From /usr/local/lib/python3.7/dist-packages/tensorflow/python/autograph/impl/api.py:465: to_float (from tensorflow.python.ops.math_ops) is deprecated and will be removed in a future version.\n",
            "Instructions for updating:\n",
            "Use `tf.cast` instead.\n",
            "W0114 18:14:19.221729 140343179253632 deprecation.py:347] From /usr/local/lib/python3.7/dist-packages/tensorflow/python/autograph/impl/api.py:465: to_float (from tensorflow.python.ops.math_ops) is deprecated and will be removed in a future version.\n",
            "Instructions for updating:\n",
            "Use `tf.cast` instead.\n",
            "INFO:tensorflow:Waiting for new checkpoint at /content/drive/MyDrive/Colab_Notebooks/TF_object_detection/downloading_models/centernet_mobilenetv2_fpn_od/checkpoint/checkpoint\n",
            "I0114 18:14:24.094548 140343179253632 checkpoint_utils.py:140] Waiting for new checkpoint at /content/drive/MyDrive/Colab_Notebooks/TF_object_detection/downloading_models/centernet_mobilenetv2_fpn_od/checkpoint/checkpoint\n",
            "INFO:tensorflow:Timed-out waiting for a checkpoint.\n",
            "I0114 19:14:23.769695 140343179253632 checkpoint_utils.py:203] Timed-out waiting for a checkpoint.\n"
          ]
        }
      ],
      "source": [
        "%%bash\n",
        "\n",
        "cd /content/drive/MyDrive/Colab_Notebooks/TF_object_detection/scripts\n",
        "python model_main_tf2.py \\\n",
        "    --model_dir=/content/drive/MyDrive/Colab_Notebooks/TF_object_detection/downloading_models/centernet_mobilenetv2_fpn_od \\\n",
        "    --pipeline_config_path=/content/drive/MyDrive/Colab_Notebooks/TF_object_detection/downloading_models/centernet_mobilenetv2_fpn_od/pipeline.config \\\n",
        "    --checkpoint_dir=/content/drive/MyDrive/Colab_Notebooks/TF_object_detection/downloading_models/centernet_mobilenetv2_fpn_od/checkpoint/checkpoint \\\n",
        "    --num_train_steps=10 \\\n",
        "    --alsologtostderr"
      ]
    },
    {
      "cell_type": "code",
      "execution_count": null,
      "metadata": {
        "colab": {
          "base_uri": "https://localhost:8080/"
        },
        "id": "0QIzmhhFVfAg",
        "outputId": "49b1b979-229c-4fed-a47c-1d3ea28d0beb"
      },
      "outputs": [
        {
          "name": "stdout",
          "output_type": "stream",
          "text": [
            "nvcc: NVIDIA (R) Cuda compiler driver\n",
            "Copyright (c) 2005-2020 NVIDIA Corporation\n",
            "Built on Mon_Oct_12_20:09:46_PDT_2020\n",
            "Cuda compilation tools, release 11.1, V11.1.105\n",
            "Build cuda_11.1.TC455_06.29190527_0\n"
          ]
        }
      ],
      "source": [
        "!nvcc --version"
      ]
    },
    {
      "cell_type": "code",
      "execution_count": null,
      "metadata": {
        "id": "Wmr0mUowVgKm"
      },
      "outputs": [],
      "source": [
        ""
      ]
    }
  ],
  "metadata": {
    "accelerator": "GPU",
    "colab": {
      "collapsed_sections": [],
      "name": "Tf_object_detection.ipynb",
      "provenance": [],
      "toc_visible": true,
      "mount_file_id": "15TKfs3jSeah9QOA547LtqP0bZvuXMy1s",
      "authorship_tag": "ABX9TyPq+9ZqQBHjDGCZ8zchFoNE",
      "include_colab_link": true
    },
    "kernelspec": {
      "display_name": "Python 3",
      "name": "python3"
    },
    "language_info": {
      "name": "python"
    }
  },
  "nbformat": 4,
  "nbformat_minor": 0
}